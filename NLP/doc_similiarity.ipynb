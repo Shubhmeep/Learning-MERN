{
 "cells": [
  {
   "cell_type": "code",
   "execution_count": 1,
   "metadata": {},
   "outputs": [
    {
     "name": "stdout",
     "output_type": "stream",
     "text": [
      "['i', 'me', 'my', 'myself', 'we', 'our', 'ours', 'ourselves', 'you', \"you're\", \"you've\", \"you'll\", \"you'd\", 'your', 'yours', 'yourself', 'yourselves', 'he', 'him', 'his', 'himself', 'she', \"she's\", 'her', 'hers', 'herself', 'it', \"it's\", 'its', 'itself', 'they', 'them', 'their', 'theirs', 'themselves', 'what', 'which', 'who', 'whom', 'this', 'that', \"that'll\", 'these', 'those', 'am', 'is', 'are', 'was', 'were', 'be', 'been', 'being', 'have', 'has', 'had', 'having', 'do', 'does', 'did', 'doing', 'a', 'an', 'the', 'and', 'but', 'if', 'or', 'because', 'as', 'until', 'while', 'of', 'at', 'by', 'for', 'with', 'about', 'against', 'between', 'into', 'through', 'during', 'before', 'after', 'above', 'below', 'to', 'from', 'up', 'down', 'in', 'out', 'on', 'off', 'over', 'under', 'again', 'further', 'then', 'once', 'here', 'there', 'when', 'where', 'why', 'how', 'all', 'any', 'both', 'each', 'few', 'more', 'most', 'other', 'some', 'such', 'no', 'nor', 'not', 'only', 'own', 'same', 'so', 'than', 'too', 'very', 's', 't', 'can', 'will', 'just', 'don', \"don't\", 'should', \"should've\", 'now', 'd', 'll', 'm', 'o', 're', 've', 'y', 'ain', 'aren', \"aren't\", 'couldn', \"couldn't\", 'didn', \"didn't\", 'doesn', \"doesn't\", 'hadn', \"hadn't\", 'hasn', \"hasn't\", 'haven', \"haven't\", 'isn', \"isn't\", 'ma', 'mightn', \"mightn't\", 'mustn', \"mustn't\", 'needn', \"needn't\", 'shan', \"shan't\", 'shouldn', \"shouldn't\", 'wasn', \"wasn't\", 'weren', \"weren't\", 'won', \"won't\", 'wouldn', \"wouldn't\"]\n"
     ]
    },
    {
     "name": "stderr",
     "output_type": "stream",
     "text": [
      "[nltk_data] Downloading package stopwords to\n",
      "[nltk_data]     C:\\Users\\hp\\AppData\\Roaming\\nltk_data...\n",
      "[nltk_data]   Package stopwords is already up-to-date!\n",
      "[nltk_data] Downloading package punkt to\n",
      "[nltk_data]     C:\\Users\\hp\\AppData\\Roaming\\nltk_data...\n",
      "[nltk_data]   Package punkt is already up-to-date!\n"
     ]
    }
   ],
   "source": [
    "from sklearn.feature_extraction.text import CountVectorizer\n",
    "import pandas as pd\n",
    "from sklearn.metrics.pairwise import cosine_similarity\n",
    "import nltk\n",
    "nltk.download('stopwords')\n",
    "nltk.download('punkt')\n",
    "from nltk.corpus import stopwords\n",
    "print(stopwords.words('english'))\n",
    "from nltk.corpus import stopwords\n",
    "from nltk.tokenize import word_tokenize"
   ]
  },
  {
   "cell_type": "code",
   "execution_count": 2,
   "metadata": {},
   "outputs": [],
   "source": [
    "# BBC Report\n",
    "sentence_a = '''Russian President Vladimir Putin has ordered troops into two rebel-held regions in eastern Ukraine, after recognising them as independent states. Russia said the troops have not yet been deployed but will be \"peacekeeping\" in the regions, which it has backed since 2014. The US said calling them peacekeepers was \"nonsense\", and accused Russia of creating a pretext for war. Several countries have announced sanctions in response. Ukraine's president said his country was \"not afraid of anything or anyone\". In a late-night televised address to the nation, President Volodymyr Zelensky called for \"clear and effective actions of support\" from Ukraine's international allies. \"It is very important to see now who our real friend and partner is, and who will continue to scare the Russian Federation with words only,\" he added. Map showing the regions of Donesk and Luhansk in eastern Ukraine and the Russian-backed separatist-held areas within those regions. 2px presentational grey line Fears over an invasion have been rising in recent months, as Russia has massed some 150,000 troops along Ukraine's borders, according to US estimates. At an emergency meeting of the United Nations Security Council, US Ambassador Linda Thomas-Greenfield dismissed Russia's claims that troops would be taking on a \"peacekeeping\" role, saying: \"We know what they really are.\" Recognising Luhansk and Donetsk as independent was part of Russia's bid to create a reason to invade Ukraine, she said. EXPLAINER: What does Putin want? ON THE GROUND: War, sickness and love in rebel-held Ukraine LIVE: Latest updates on Ukraine Russia has been backing a bloody armed rebellion in eastern Ukraine for the past eight years. Some 14,000 people - including many civilians - have died in fighting since then. In recent years, Russian passports have been given out to large numbers of people in Donetsk and Luhansk. The rebel-held areas have been evacuating women, children and the elderly to Russia since late last week. In an hour-long address on Monday, Mr Putin said Ukraine was an integral part of his country's history, and described eastern Ukraine as \"ancient Russian lands\". Russia's UN Ambassador Vasily Nebenzya argued for the need to defend the rebel-held areas in eastern Ukraine's Donbas region from what he called Ukrainian aggression. \"Allowing a new bloodbath in the Donbas is something we do not intend to do,\" he said. But Mr Zelensky said Moscow's recognition of the rebel-held regions represented a threat to the security of Ukraine and other European nations. \"If we have a full-scale escalation... our neighbours would be put at risk,\" he said. 'A barrage of sanctions' Western powers have rallied behind Ukraine, promising tough sanctions against Russia if it invades - though it is not yet clear how effective this move could be. The US swiftly condemned Mr Putin's move, and President Joe Biden signed an executive order that prohibits new investment, trade and financing by Americans in the breakaway regions. The White House said the measures were separate to wider Western sanctions which are ready to go \"should Russia further invade Ukraine\". UK Prime Minister Boris Johnson said Russia had violated Ukrainian sovereignty and \"completely torn up\" international law. He said Mr Putin appeared \"bent on a full-scale invasion\", and promised a \"barrage of sanctions\". German Chancellor Olaf Scholz said he was halting the process of certifying the controversial Nord Stream 2 pipeline because of Russia's actions. The gas pipeline between Russia and Germany was completed last September but is not yet operating. Running under the Baltic Sea, it would double Moscow's gas exports to Germany and circumvent Ukraine, which relies on existing pipelines for income. The European Union pledged to \"react with unity, firmness and with determination in solidarity with Ukraine\". Both Mr Scholz and France's President Emmanuel Macron spoke with the Russian leader ahead of his announcement. 2px presentational grey line Putin builds to a showdown Analysis box by Sarah Rainsford, Moscow correspondent This speech was Putin the angry, impatient and directly threatening. It felt like Russia's president was getting 20-odd years of hurt off his chest and hitting back. \"You didn't want us to be friends,\" was how he put it to the West, \"but you didn't have to make an enemy of us.\" There was a lot we've heard before, repackaged for this moment when he knows he has maximum attention. He's clearly ceding no ground on his key security demands: Nato expansion must be rolled back, and Ukrainian membership is a red line. He complained that Russia's concerns had been ignored as irrelevant for years and accused the West of trying to \"contain\" Russia as a resurgent global force. Mr Putin's focus on Ukraine felt obsessive, like a man who thinks about little else. At times it sounded like a bid to run for president there, it was so detailed. And, of course, there was his re-writing of Ukrainian history, to claim it has never really been a state. In today's context, that had deeply ominous overtones. READ MORE: Putin's angry speech rewriting Ukraine's history 2px presentational grey line A Ukrainian serviceman holds a machine gun at a town in Donetsk IMAGE SOURCE,REUTERS Image caption, A Ukrainian serviceman at a position on the front line near the village of Travneve in Donetsk region Groundwork for the controversial decision was laid earlier on Monday, when Mr Putin convened Russia's security council to discuss recognising the self-declared republics as independent. Mr Putin's top officials were called to a podium to deliver their views, each speaking in favour of the move. Monday's televised meeting was not entirely smooth, however. Two officials appeared to reference a possibility to \"incorporate\" the regions into Russia. On both occasions, Mr Putin corrected them. \"We are not talking about that,\" Mr Putin said, shaking his head in response to one official's use of the phrase. \"We are talking about whether to recognise their independence or not.\"'''\n",
    "# The Week Report\n",
    "sentence_b = '''Russian President Vladimir Putin ordered troops into eastern regions of Donetsk and Luhansk, the rebel-held regions and declared them as independent regions. The troops will be ‘peacekeeping’ in the region, Russia said. The US said that calling them peacekeeping nonsense and that Russia is creating a pretext for war. Russia has supported the rebel regions since 2014. Ukraine’s President Vladimir Zelensky, in the meantime, said his country was \"not afraid of anything or anyone,” a BBC report reads. \"It is very important to see now who our real friend and partner is, and who will continue to scare the Russian Federation with words only,\" Ukraine President Vladimir Zelensky said. Russia’s move comes at the heels of US President Joe Biden signing an executive order imposing sanctions on the regions—Donetsk and Luhansk. In recent years, Russia has been giving out passports to a large number of people in the region. Over 14,000 including civilians have lost lives in the armed rebellion in easter Ukraine. Since last week, the regions have been evacuating women, children and its elderly to Russia. On Monday, Putin had described Ukraine as ancient Russian lands. UK PM Johnson announces sanctions Prime Minister Boris Johnson said the UK will hit Russia with a first barrage of economic sanctions, warning that President Vladimir Putin is fixed on a \"full-scale invasion of Ukraine\". He was speaking soon after chairing an emergency meeting of the Cabinet Office Briefing Room A on Tuesday in the wake of Putin's decision to recognise two breakaway regions in eastern Ukraine. The UK PM accused Putin of \"plainly\" violating Ukrainian sovereignty and \"the over-running, the subjugation of an independent, sovereign European country. \"He's sent troops in, he's broken international law, he's repudiated the Minsk agreements, and torn up the understanding from Budapest in 1994 that Ukraine's territorial integrity would be respected,\" said Johnson. The United Kingdom will be announcing new sanctions on Russia in response to its breach of international law and attack on Ukraine's sovereignty and territorial integrity. There will be severe economic consequences to its actions, UK Ambassador Barbara Woodward told an emergency Security Council meeting on Ukraine. ALSO READ All eyes on Moscow as Imran visit coincides with Ukraine crisis Asian shares drop as Putin orders troops to east Ukraine China's envoy calls for restraint, more dialogue on Ukraine crisis This Council must be united in: calling on Russia to de-escalate immediately; condemning aggression against a sovereign nation, and defending the territorial integrity of Ukraine; calling on Russia to respect its obligations under the Charter to the peaceful resolution of disputes. On Monday evening, Johnson spoke to UkrainianPresident Volodymyr Zelensky to outline his grave concern and warn that he believed an invasion was a real possibility in the coming hours and days. During the phone call, Johnson promised to \"explore sending further defensive support to Ukraine\" at the request of the country's government, as well as detailing sanctions. The leaders agreed that the West needed to support Ukraine in the event of an invasion but should continue to pursue a diplomatic solution until the last possible second, Downing Street said.'''\n"
   ]
  },
  {
   "cell_type": "code",
   "execution_count": null,
   "metadata": {},
   "outputs": [],
   "source": [
    "# Removing stopwords from first doc\n",
    "stop_words = stopwords.words('english')\n",
    "word_tokens = word_tokenize(sentence_a)\n",
    "filtered_sentence = [w for w in word_tokens if not w in stop_words]\n",
    "filtered_sentence = []\n",
    "for w in word_tokens:\n",
    "    if w not in stop_words:\n",
    "        filtered_sentence.append(w)\n",
    "sentence_a = ' '.join(filtered_sentence)\n",
    "print(sentence_a)"
   ]
  },
  {
   "cell_type": "code",
   "execution_count": null,
   "metadata": {},
   "outputs": [],
   "source": [
    "\n",
    "# Removing stopwords from second doc\n",
    "stop_words2 = stopwords.words('english')\n",
    "word_tokens2 = word_tokenize(sentence_b)\n",
    "filtered_sentence2 = [w for w in word_tokens2 if not w in stop_words2]\n",
    "filtered_sentence2 = []\n",
    "for w1 in word_tokens2:\n",
    "    if w1 not in stop_words2:\n",
    "        filtered_sentence2.append(w1)\n",
    " \n",
    "sentence_b = ' '.join(filtered_sentence2)\n",
    "print(sentence_b)\n"
   ]
  },
  {
   "cell_type": "code",
   "execution_count": 7,
   "metadata": {},
   "outputs": [
    {
     "name": "stderr",
     "output_type": "stream",
     "text": [
      "[nltk_data] Downloading package wordnet to\n",
      "[nltk_data]     C:\\Users\\hp\\AppData\\Roaming\\nltk_data...\n",
      "[nltk_data]   Unzipping corpora\\wordnet.zip.\n"
     ]
    }
   ],
   "source": [
    "# Importing libs\n",
    "from nltk.stem.wordnet import WordNetLemmatizer\n",
    "lem = WordNetLemmatizer()\n",
    "\n",
    "from nltk.stem.porter import PorterStemmer\n",
    "stem = PorterStemmer()\n",
    "nltk.download('wordnet')\n",
    "from nltk import *\n"
   ]
  },
  {
   "cell_type": "code",
   "execution_count": null,
   "metadata": {},
   "outputs": [],
   "source": [
    "group = [sentence_a, sentence_b]\n",
    "group"
   ]
  },
  {
   "cell_type": "code",
   "execution_count": null,
   "metadata": {},
   "outputs": [],
   "source": [
    "# Stemming first doc\n",
    "doc1 = []\n",
    "ps = nltk.stem.SnowballStemmer('english')\n",
    "for word1 in sentence_a.split():\n",
    "  asa = ps.stem(word1)\n",
    "  doc1.append(asa)\n",
    "sentence_a = ' '.join(doc1)\n",
    "print(sentence_a)"
   ]
  },
  {
   "cell_type": "code",
   "execution_count": null,
   "metadata": {},
   "outputs": [],
   "source": [
    "# Stemming second doc\n",
    "doc2 = []\n",
    "ps = nltk.stem.SnowballStemmer('english')\n",
    "for wo in sentence_b.split():\n",
    "  mid = ps.stem(wo)\n",
    "  doc2.append(mid)\n",
    "sentence_b = ' '.join(doc2)\n",
    "print(sentence_b)\n",
    " "
   ]
  },
  {
   "cell_type": "code",
   "execution_count": null,
   "metadata": {},
   "outputs": [],
   "source": [
    "print(sentence_a)\n",
    "print(\" \")\n",
    "print(sentence_b)"
   ]
  },
  {
   "cell_type": "code",
   "execution_count": 16,
   "metadata": {},
   "outputs": [
    {
     "data": {
      "text/html": [
       "<div>\n",
       "<style scoped>\n",
       "    .dataframe tbody tr th:only-of-type {\n",
       "        vertical-align: middle;\n",
       "    }\n",
       "\n",
       "    .dataframe tbody tr th {\n",
       "        vertical-align: top;\n",
       "    }\n",
       "\n",
       "    .dataframe thead th {\n",
       "        text-align: right;\n",
       "    }\n",
       "</style>\n",
       "<table border=\"1\" class=\"dataframe\">\n",
       "  <thead>\n",
       "    <tr style=\"text-align: right;\">\n",
       "      <th></th>\n",
       "      <th>000</th>\n",
       "      <th>14</th>\n",
       "      <th>150</th>\n",
       "      <th>1994</th>\n",
       "      <th>20</th>\n",
       "      <th>2014</th>\n",
       "      <th>2px</th>\n",
       "      <th>according</th>\n",
       "      <th>accused</th>\n",
       "      <th>actions</th>\n",
       "      <th>...</th>\n",
       "      <th>within</th>\n",
       "      <th>women</th>\n",
       "      <th>woodward</th>\n",
       "      <th>words</th>\n",
       "      <th>would</th>\n",
       "      <th>writing</th>\n",
       "      <th>years</th>\n",
       "      <th>yet</th>\n",
       "      <th>you</th>\n",
       "      <th>zelensky</th>\n",
       "    </tr>\n",
       "  </thead>\n",
       "  <tbody>\n",
       "    <tr>\n",
       "      <th>sentence_a</th>\n",
       "      <td>2</td>\n",
       "      <td>1</td>\n",
       "      <td>1</td>\n",
       "      <td>0</td>\n",
       "      <td>1</td>\n",
       "      <td>1</td>\n",
       "      <td>3</td>\n",
       "      <td>1</td>\n",
       "      <td>2</td>\n",
       "      <td>2</td>\n",
       "      <td>...</td>\n",
       "      <td>1</td>\n",
       "      <td>1</td>\n",
       "      <td>0</td>\n",
       "      <td>1</td>\n",
       "      <td>3</td>\n",
       "      <td>1</td>\n",
       "      <td>4</td>\n",
       "      <td>3</td>\n",
       "      <td>1</td>\n",
       "      <td>2</td>\n",
       "    </tr>\n",
       "    <tr>\n",
       "      <th>sentence_b</th>\n",
       "      <td>1</td>\n",
       "      <td>1</td>\n",
       "      <td>0</td>\n",
       "      <td>1</td>\n",
       "      <td>0</td>\n",
       "      <td>1</td>\n",
       "      <td>0</td>\n",
       "      <td>0</td>\n",
       "      <td>1</td>\n",
       "      <td>1</td>\n",
       "      <td>...</td>\n",
       "      <td>0</td>\n",
       "      <td>1</td>\n",
       "      <td>1</td>\n",
       "      <td>1</td>\n",
       "      <td>1</td>\n",
       "      <td>0</td>\n",
       "      <td>1</td>\n",
       "      <td>0</td>\n",
       "      <td>0</td>\n",
       "      <td>3</td>\n",
       "    </tr>\n",
       "  </tbody>\n",
       "</table>\n",
       "<p>2 rows × 515 columns</p>\n",
       "</div>"
      ],
      "text/plain": [
       "            000  14  150  1994  20  2014  2px  according  accused  actions  \\\n",
       "sentence_a    2   1    1     0   1     1    3          1        2        2   \n",
       "sentence_b    1   1    0     1   0     1    0          0        1        1   \n",
       "\n",
       "            ...  within  women  woodward  words  would  writing  years  yet  \\\n",
       "sentence_a  ...       1      1         0      1      3        1      4    3   \n",
       "sentence_b  ...       0      1         1      1      1        0      1    0   \n",
       "\n",
       "            you  zelensky  \n",
       "sentence_a    1         2  \n",
       "sentence_b    0         3  \n",
       "\n",
       "[2 rows x 515 columns]"
      ]
     },
     "execution_count": 16,
     "metadata": {},
     "output_type": "execute_result"
    }
   ],
   "source": [
    "# CountVectorizer is a great tool provided by the scikit-learn library in Python. It is used to transform a given text into a vector on the basis of the frequency (count) of each word that occurs in the entire text.\n",
    "count_vectorizer = CountVectorizer(stop_words='english')\n",
    "count_vectorizer = CountVectorizer()\n",
    "sparse_matrix = count_vectorizer.fit_transform(group)\n",
    "sentence_matrix = sparse_matrix.todense()\n",
    "df1 = pd.DataFrame(sentence_matrix, columns=count_vectorizer.get_feature_names(), index=['sentence_a','sentence_b'])\n",
    "df1"
   ]
  },
  {
   "cell_type": "code",
   "execution_count": 17,
   "metadata": {},
   "outputs": [
    {
     "name": "stdout",
     "output_type": "stream",
     "text": [
      "Cosine Similarity (Matrix) \n",
      "\n",
      "[[1.         0.72411809]\n",
      " [0.72411809 1.        ]]\n"
     ]
    }
   ],
   "source": [
    "print(\"Cosine Similarity (Matrix)\", '\\n')\n",
    "print(cosine_similarity(df1,df1))\n",
    "#cosine formula = doc1.doc2/ |doc1| |doc2|"
   ]
  }
 ],
 "metadata": {
  "interpreter": {
   "hash": "c0f70214c0dd213f07f54ee5d6e0ea644bdbba35113c9bfe8aaa0d1db03ad5dd"
  },
  "kernelspec": {
   "display_name": "Python 3.9.7 ('base')",
   "language": "python",
   "name": "python3"
  },
  "language_info": {
   "codemirror_mode": {
    "name": "ipython",
    "version": 3
   },
   "file_extension": ".py",
   "mimetype": "text/x-python",
   "name": "python",
   "nbconvert_exporter": "python",
   "pygments_lexer": "ipython3",
   "version": "3.9.7"
  },
  "orig_nbformat": 4
 },
 "nbformat": 4,
 "nbformat_minor": 2
}
