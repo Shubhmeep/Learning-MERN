{
 "cells": [
  {
   "cell_type": "code",
   "execution_count": 1,
   "metadata": {},
   "outputs": [
    {
     "name": "stderr",
     "output_type": "stream",
     "text": [
      "[nltk_data] Downloading package words to\n",
      "[nltk_data]     C:\\Users\\hp\\AppData\\Roaming\\nltk_data...\n",
      "[nltk_data]   Package words is already up-to-date!\n"
     ]
    },
    {
     "data": {
      "text/plain": [
       "True"
      ]
     },
     "execution_count": 1,
     "metadata": {},
     "output_type": "execute_result"
    }
   ],
   "source": [
    "import nltk\n",
    "from nltk.corpus import words\n",
    "import operator\n",
    "nltk.download('words')"
   ]
  },
  {
   "cell_type": "code",
   "execution_count": 5,
   "metadata": {},
   "outputs": [
    {
     "data": {
      "text/plain": [
       "{'bucket': 4,\n",
       " 'bucky': 4,\n",
       " 'chuck': 4,\n",
       " 'tuckahoe': 4,\n",
       " 'mucker': 4,\n",
       " 'luckful': 3,\n",
       " 'bucketful': 3,\n",
       " 'truckful': 3,\n",
       " 'unluckful': 3,\n",
       " 'neckful': 2,\n",
       " 'sackful': 2,\n",
       " 'confucian': 2,\n",
       " 'confucianism': 2,\n",
       " 'confucianist': 2,\n",
       " 'fuchsian': 2,\n",
       " 'fuchsin': 2,\n",
       " 'fuchsine': 2,\n",
       " 'fuchsinophil': 2,\n",
       " 'fuchsinophilous': 2,\n",
       " 'fuchsite': 2}"
      ]
     },
     "execution_count": 5,
     "metadata": {},
     "output_type": "execute_result"
    }
   ],
   "source": [
    "def spell_check(word, n=2):\n",
    "  ngram={}\n",
    "  total=26**n\n",
    "  for i in range(total):\n",
    "    c=''\n",
    "    k=i\n",
    "    for j in range(n):\n",
    "      c=chr(97+(k%26))+c\n",
    "      k=k//26\n",
    "      ngram[c]=set()\n",
    "  lexicon=words.words()\n",
    "  lexicon=[i.lower() for i in lexicon if i.isalnum()]\n",
    "  for w in range(len(lexicon)):\n",
    "    for c in range(0,len(lexicon[w])- n+1):\n",
    "      ngram[lexicon[w][c:c+n]].add(w)\n",
    "  freq_dict={}\n",
    "  for c in range(0, len(word)-n+1):\n",
    "    for w in ngram[word[c:c+n]]:\n",
    "      if lexicon[w] not in freq_dict.keys():\n",
    "        freq_dict[lexicon[w]]=1\n",
    "      else:\n",
    "        freq_dict[lexicon[w]]+=1\n",
    "  top_freq=dict(sorted(freq_dict.items(),key=operator.itemgetter(1),reverse=True)[:20])\n",
    "  return top_freq\n",
    "\n",
    "word = \"fuck\"\n",
    "top_freq=spell_check(word)\n",
    "# Top 20 words with bigram matching frequency\n",
    "top_freq"
   ]
  },
  {
   "cell_type": "code",
   "execution_count": 4,
   "metadata": {},
   "outputs": [
    {
     "data": {
      "text/plain": [
       "['whiggamore',\n",
       " 'organization',\n",
       " 'night',\n",
       " 'galenic',\n",
       " 'galenical',\n",
       " 'sparganium',\n",
       " 'unniggard',\n",
       " 'unniggardly',\n",
       " 'niggard',\n",
       " 'niggardize',\n",
       " 'niggardliness',\n",
       " 'niggardling',\n",
       " 'niggardly',\n",
       " 'niggardness',\n",
       " 'abigail',\n",
       " 'michigan',\n",
       " 'striga',\n",
       " 'cardigan',\n",
       " 'tigger',\n",
       " 'irrigationist']"
      ]
     },
     "execution_count": 4,
     "metadata": {},
     "output_type": "execute_result"
    }
   ],
   "source": [
    "def getList(dict):\n",
    "    return dict.keys()\n",
    "\n",
    "t_freq=getList(top_freq)\n",
    "t_freq = list(t_freq)\n",
    "t_freq"
   ]
  }
 ],
 "metadata": {
  "interpreter": {
   "hash": "c0f70214c0dd213f07f54ee5d6e0ea644bdbba35113c9bfe8aaa0d1db03ad5dd"
  },
  "kernelspec": {
   "display_name": "Python 3.9.7 ('base')",
   "language": "python",
   "name": "python3"
  },
  "language_info": {
   "codemirror_mode": {
    "name": "ipython",
    "version": 3
   },
   "file_extension": ".py",
   "mimetype": "text/x-python",
   "name": "python",
   "nbconvert_exporter": "python",
   "pygments_lexer": "ipython3",
   "version": "3.9.7"
  },
  "orig_nbformat": 4
 },
 "nbformat": 4,
 "nbformat_minor": 2
}
