{
 "cells": [
  {
   "cell_type": "code",
   "execution_count": 3,
   "metadata": {},
   "outputs": [
    {
     "name": "stderr",
     "output_type": "stream",
     "text": [
      "[nltk_data] Downloading package averaged_perceptron_tagger to\n",
      "[nltk_data]     C:\\Users\\hp\\AppData\\Roaming\\nltk_data...\n",
      "[nltk_data]   Unzipping taggers\\averaged_perceptron_tagger.zip.\n"
     ]
    },
    {
     "data": {
      "text/plain": [
       "True"
      ]
     },
     "execution_count": 3,
     "metadata": {},
     "output_type": "execute_result"
    }
   ],
   "source": [
    "from pywsd.lesk import simple_lesk\n",
    "from nltk.wsd import lesk \n",
    "import nltk\n",
    "nltk.download('averaged_perceptron_tagger')\n",
    "  \n"
   ]
  },
  {
   "cell_type": "code",
   "execution_count": 6,
   "metadata": {},
   "outputs": [
    {
     "name": "stdout",
     "output_type": "stream",
     "text": [
      "Case-I: She heard the phone ring.\n",
      "Sense I: Synset('call.v.03')\n",
      "Meaning I: get or try to get into communication (with someone) by telephone\n",
      "\n",
      "Case-II: He pulled out the engagement ring , along with a wad of lint.\n",
      "Sense II: Synset('hoop.n.02')\n",
      "Meaning II: a rigid circular band of metal or wood or other material used for holding or fastening or hanging or pulling\n"
     ]
    }
   ],
   "source": [
    "example = ['She heard the phone ring.', 'He pulled out the engagement ring , along with a wad of lint.']\n",
    "\n",
    "# simple Lesk\n",
    "\n",
    "print(\"Case-I:\", example[0])\n",
    "a = simple_lesk(example[0],'ring')\n",
    "print(\"Sense I:\",a)\n",
    "print(\"Meaning I:\", a.definition())\n",
    "\n",
    "print(\"\")\n",
    "\n",
    "print(\"Case-II:\", example[1])\n",
    "b = simple_lesk(example[1],'ring')\n",
    "print(\"Sense II:\",b)\n",
    "print(\"Meaning II:\", b.definition())\n"
   ]
  },
  {
   "cell_type": "code",
   "execution_count": 8,
   "metadata": {},
   "outputs": [
    {
     "name": "stdout",
     "output_type": "stream",
     "text": [
      "Case-I: She heard the phone ring.\n",
      "Sense I: Synset('ring.v.06')\n",
      "Meaning I: attach a ring to the foot of, in order to identify\n",
      "\n",
      "Case-II: He pulled out the engagement ring , along with a wad of lint.\n",
      "Sense II: Synset('ring.v.06')\n",
      "Meaning II: attach a ring to the foot of, in order to identify\n"
     ]
    }
   ],
   "source": [
    "#lesk\n",
    "\n",
    "example = ['She heard the phone ring.', 'He pulled out the engagement ring , along with a wad of lint.']\n",
    "print(\"Case-I:\", example[0])\n",
    "a = lesk(example[0],'ring')\n",
    "print(\"Sense I:\",a)\n",
    "print(\"Meaning I:\", a.definition())\n",
    "print(\"\")\n",
    "print(\"Case-II:\", example[1])\n",
    "b = lesk(example[1],'ring')\n",
    "print(\"Sense II:\",b)\n",
    "print(\"Meaning II:\", b.definition())"
   ]
  }
 ],
 "metadata": {
  "interpreter": {
   "hash": "c0f70214c0dd213f07f54ee5d6e0ea644bdbba35113c9bfe8aaa0d1db03ad5dd"
  },
  "kernelspec": {
   "display_name": "Python 3.9.7 ('base')",
   "language": "python",
   "name": "python3"
  },
  "language_info": {
   "codemirror_mode": {
    "name": "ipython",
    "version": 3
   },
   "file_extension": ".py",
   "mimetype": "text/x-python",
   "name": "python",
   "nbconvert_exporter": "python",
   "pygments_lexer": "ipython3",
   "version": "3.9.7"
  },
  "orig_nbformat": 4
 },
 "nbformat": 4,
 "nbformat_minor": 2
}
