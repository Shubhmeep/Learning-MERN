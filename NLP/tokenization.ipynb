{
 "cells": [
  {
   "cell_type": "code",
   "execution_count": 2,
   "metadata": {},
   "outputs": [
    {
     "name": "stdout",
     "output_type": "stream",
     "text": [
      "tokenized words : ['hello', '!', 'my', 'name', 'is', 'ishika', 'shruti', '.', 'This', 'is', 'my', 'first', 'NLP', 'assignment', '.']\n",
      "frequency of each word With punctuation:\n",
      "!: 1\n",
      ".: 2\n",
      "NLP: 1\n",
      "This: 1\n",
      "assignment: 1\n",
      "first: 1\n",
      "hello: 1\n",
      "is: 2\n",
      "ishika: 1\n",
      "my: 2\n",
      "name: 1\n",
      "shruti: 1\n",
      "\n",
      "frequency of each word Without punctuation\n",
      "tokenization after removing punctuation : ['hello', 'my', 'name', 'is', 'ishika', 'shruti', 'This', 'is', 'my', 'first', 'NLP', 'assignment']\n",
      "NLP: 1\n",
      "This: 1\n",
      "assignment: 1\n",
      "first: 1\n",
      "hello: 1\n",
      "is: 2\n",
      "ishika: 1\n",
      "my: 2\n",
      "name: 1\n",
      "shruti: 1\n",
      "\n",
      "number of characters: 15\n",
      "number of characters after removing punctuation: 12\n"
     ]
    }
   ],
   "source": [
    "import nltk\n",
    "import string\n",
    "text1 = \"hello! my name is ishika shruti. This is my first NLP assignment.\"\n",
    "words = nltk.tokenize.word_tokenize(text1)\n",
    "print(\"tokenized words :\",words)   #tokenisation by word\n",
    "fdist1 = nltk.FreqDist(words)\n",
    "filtered_word_freq = dict((word, freq) for word, freq in fdist1.items() if not word.isdigit())\n",
    "\n",
    "\n",
    "print(\"frequency of each word With punctuation:\")\n",
    "for key in sorted(filtered_word_freq):\n",
    "    print(\"%s: %s\" % (key, filtered_word_freq[key]))\n",
    "\n",
    "print(\"\")\n",
    "\n",
    "\n",
    "print(\"frequency of each word Without punctuation\")\n",
    "x = string.punctuation\n",
    "clean_words = [w for w in words if w not in x]\n",
    "print(\"tokenization after removing punctuation :\",clean_words)\n",
    "fdist2 = nltk.FreqDist(clean_words)\n",
    "filtered_word_freq = dict((word, freq) for word, freq in fdist2.items() if not word.isdigit())\n",
    "for key in sorted(filtered_word_freq):\n",
    "    print(\"%s: %s\" % (key, filtered_word_freq[key]))\n",
    "\n",
    "print(\"\")\n",
    "\n",
    "\n",
    "print(\"number of characters:\",len(words))\n",
    "print(\"number of characters after removing punctuation:\",len(clean_words))"
   ]
  }
 ],
 "metadata": {
  "interpreter": {
   "hash": "c0f70214c0dd213f07f54ee5d6e0ea644bdbba35113c9bfe8aaa0d1db03ad5dd"
  },
  "kernelspec": {
   "display_name": "Python 3.9.7 ('base')",
   "language": "python",
   "name": "python3"
  },
  "language_info": {
   "codemirror_mode": {
    "name": "ipython",
    "version": 3
   },
   "file_extension": ".py",
   "mimetype": "text/x-python",
   "name": "python",
   "nbconvert_exporter": "python",
   "pygments_lexer": "ipython3",
   "version": "3.9.7"
  },
  "orig_nbformat": 4
 },
 "nbformat": 4,
 "nbformat_minor": 2
}
