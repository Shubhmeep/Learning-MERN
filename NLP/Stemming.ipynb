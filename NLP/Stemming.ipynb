{
 "cells": [
  {
   "cell_type": "code",
   "execution_count": 1,
   "metadata": {},
   "outputs": [],
   "source": [
    "from nltk.stem import PorterStemmer\n",
    "from nltk.corpus import stopwords\n",
    "from nltk.tokenize import word_tokenize\n",
    "from nltk.stem.snowball import SnowballStemmer\n"
   ]
  },
  {
   "cell_type": "code",
   "execution_count": 4,
   "metadata": {},
   "outputs": [
    {
     "name": "stdout",
     "output_type": "stream",
     "text": [
      "['Precipitation', 'form', 'water', 'particles', 'rain', ',', 'sleet', ',', 'snow', 'hail', ',', 'fall', 'atmosphere', 'earth', '’', 'surface', '.', 'When', 'heat', 'lower', 'air', 'spreads', 'larger', 'volume', ',', 'mass', 'air', 'becomes', 'cooler', '.']\n"
     ]
    }
   ],
   "source": [
    "#removing the stopwords\n",
    "from nltk.corpus import stopwords\n",
    "paragraph = \"Precipitation is any form of water particles as in rain, sleet, snow or hail, that fall from the atmosphere to the earth’s surface. When heat from the lower air spreads through a larger volume, the mass of air becomes cooler.\"\n",
    "words = word_tokenize(paragraph)\n",
    "stop = stopwords.words('english')\n",
    "clean_words = [w for w in words if w not in stop]\n",
    "print(clean_words)"
   ]
  },
  {
   "cell_type": "code",
   "execution_count": 5,
   "metadata": {},
   "outputs": [
    {
     "name": "stdout",
     "output_type": "stream",
     "text": [
      "Precipitation  :  precipit\n",
      "form  :  form\n",
      "water  :  water\n",
      "particles  :  particl\n",
      "rain  :  rain\n",
      ",  :  ,\n",
      "sleet  :  sleet\n",
      ",  :  ,\n",
      "snow  :  snow\n",
      "hail  :  hail\n",
      ",  :  ,\n",
      "fall  :  fall\n",
      "atmosphere  :  atmospher\n",
      "earth  :  earth\n",
      "’  :  ’\n",
      "surface  :  surfac\n",
      ".  :  .\n",
      "When  :  when\n",
      "heat  :  heat\n",
      "lower  :  lower\n",
      "air  :  air\n",
      "spreads  :  spread\n",
      "larger  :  larger\n",
      "volume  :  volum\n",
      ",  :  ,\n",
      "mass  :  mass\n",
      "air  :  air\n",
      "becomes  :  becom\n",
      "cooler  :  cooler\n",
      ".  :  .\n"
     ]
    }
   ],
   "source": [
    "#applying the oprter stemmer technique\n",
    "ps = PorterStemmer()\n",
    "for w in clean_words:\n",
    "    print(w, \" : \", ps.stem(w))"
   ]
  },
  {
   "cell_type": "code",
   "execution_count": 6,
   "metadata": {},
   "outputs": [
    {
     "name": "stdout",
     "output_type": "stream",
     "text": [
      "length of paragraph: 225\n"
     ]
    }
   ],
   "source": [
    "print('length of paragraph:',len(paragraph))"
   ]
  },
  {
   "cell_type": "code",
   "execution_count": 10,
   "metadata": {},
   "outputs": [
    {
     "name": "stdout",
     "output_type": "stream",
     "text": [
      "['precipit', 'is', 'ani', 'form', 'of', 'water', 'particl', 'as', 'in', 'rain', ',', 'sleet', ',', 'snow', 'or', 'hail', ',', 'that', 'fall', 'from', 'the', 'atmospher', 'to', 'the', 'earth', '’', 's', 'surfac', '.', 'when', 'heat', 'from', 'the', 'lower', 'air', 'spread', 'through', 'a', 'larger', 'volum', ',', 'the', 'mass', 'of', 'air', 'becom', 'cooler', '.']\n"
     ]
    }
   ],
   "source": [
    "#applying the snowball stemming\n",
    "snow_stemmer = SnowballStemmer(language='english')\n",
    "snow_stem_words = []\n",
    "for w in words:\n",
    "    x = snow_stemmer.stem(w)\n",
    "    snow_stem_words.append(x)\n",
    "\n",
    "print(snow_stem_words)"
   ]
  },
  {
   "cell_type": "code",
   "execution_count": 12,
   "metadata": {},
   "outputs": [
    {
     "name": "stdout",
     "output_type": "stream",
     "text": [
      "Precipitation : precipit\n",
      "is : is\n",
      "any : ani\n",
      "form : form\n",
      "of : of\n",
      "water : water\n",
      "particles : particl\n",
      "as : as\n",
      "in : in\n",
      "rain : rain\n",
      ", : ,\n",
      "sleet : sleet\n",
      ", : ,\n",
      "snow : snow\n",
      "or : or\n",
      "hail : hail\n",
      ", : ,\n",
      "that : that\n",
      "fall : fall\n",
      "from : from\n",
      "the : the\n",
      "atmosphere : atmospher\n",
      "to : to\n",
      "the : the\n",
      "earth : earth\n",
      "’ : ’\n",
      "s : s\n",
      "surface : surfac\n",
      ". : .\n",
      "When : when\n",
      "heat : heat\n",
      "from : from\n",
      "the : the\n",
      "lower : lower\n",
      "air : air\n",
      "spreads : spread\n",
      "through : through\n",
      "a : a\n",
      "larger : larger\n",
      "volume : volum\n",
      ", : ,\n",
      "the : the\n",
      "mass : mass\n",
      "of : of\n",
      "air : air\n",
      "becomes : becom\n",
      "cooler : cooler\n",
      ". : .\n"
     ]
    }
   ],
   "source": [
    "for e1,e2 in zip(words,snow_stem_words):\n",
    "    print(e1+' : '+e2)"
   ]
  },
  {
   "cell_type": "code",
   "execution_count": 13,
   "metadata": {},
   "outputs": [
    {
     "name": "stdout",
     "output_type": "stream",
     "text": [
      "Word ---> Porter Stemmer ---> Snowball\n",
      "\n",
      "Precipitation ---> precipit  ---> precipit\n",
      "form ---> form  ---> form\n",
      "water ---> water  ---> water\n",
      "particles ---> particl  ---> particl\n",
      "rain ---> rain  ---> rain\n",
      ", ---> ,  ---> ,\n",
      "sleet ---> sleet  ---> sleet\n",
      ", ---> ,  ---> ,\n",
      "snow ---> snow  ---> snow\n",
      "hail ---> hail  ---> hail\n",
      ", ---> ,  ---> ,\n",
      "fall ---> fall  ---> fall\n",
      "atmosphere ---> atmospher  ---> atmospher\n",
      "earth ---> earth  ---> earth\n",
      "’ ---> ’  ---> ’\n",
      "surface ---> surfac  ---> surfac\n",
      ". ---> .  ---> .\n",
      "When ---> when  ---> when\n",
      "heat ---> heat  ---> heat\n",
      "lower ---> lower  ---> lower\n",
      "air ---> air  ---> air\n",
      "spreads ---> spread  ---> spread\n",
      "larger ---> larger  ---> larger\n",
      "volume ---> volum  ---> volum\n",
      ", ---> ,  ---> ,\n",
      "mass ---> mass  ---> mass\n",
      "air ---> air  ---> air\n",
      "becomes ---> becom  ---> becom\n",
      "cooler ---> cooler  ---> cooler\n",
      ". ---> .  ---> .\n"
     ]
    }
   ],
   "source": [
    "print(\"Word\",\"--->\",\"Porter Stemmer\",\"--->\",\"Snowball\")\n",
    "print(\"\")\n",
    "for word in clean_words:\n",
    "    print(word,\"--->\",ps.stem(word),\" --->\",snow_stemmer.stem(word))"
   ]
  },
  {
   "cell_type": "code",
   "execution_count": 14,
   "metadata": {},
   "outputs": [
    {
     "name": "stdout",
     "output_type": "stream",
     "text": [
      "['Precipitate']\n"
     ]
    }
   ],
   "source": [
    "#writting your own rule\n",
    "rule_list=[]\n",
    "for word in clean_words:\n",
    "    if(word.endswith('ion') == True):\n",
    "        word=word.replace(\"ion\",\"e\")\n",
    "        rule_list.append(word)\n",
    "print(rule_list)        "
   ]
  }
 ],
 "metadata": {
  "interpreter": {
   "hash": "c0f70214c0dd213f07f54ee5d6e0ea644bdbba35113c9bfe8aaa0d1db03ad5dd"
  },
  "kernelspec": {
   "display_name": "Python 3.9.7 ('base')",
   "language": "python",
   "name": "python3"
  },
  "language_info": {
   "codemirror_mode": {
    "name": "ipython",
    "version": 3
   },
   "file_extension": ".py",
   "mimetype": "text/x-python",
   "name": "python",
   "nbconvert_exporter": "python",
   "pygments_lexer": "ipython3",
   "version": "3.9.7"
  },
  "orig_nbformat": 4
 },
 "nbformat": 4,
 "nbformat_minor": 2
}
