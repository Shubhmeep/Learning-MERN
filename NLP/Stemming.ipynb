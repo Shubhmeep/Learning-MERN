{
 "cells": [
  {
   "cell_type": "code",
   "execution_count": 9,
   "metadata": {},
   "outputs": [],
   "source": [
    "from nltk.stem import PorterStemmer\n",
    "from nltk.corpus import stopwords\n",
    "from nltk.tokenize import word_tokenize\n",
    "from nltk.stem.snowball import SnowballStemmer\n"
   ]
  },
  {
   "cell_type": "code",
   "execution_count": 10,
   "metadata": {},
   "outputs": [
    {
     "name": "stdout",
     "output_type": "stream",
     "text": [
      "['Shubh', ',', 'shit', 'ass', 'guy', '!', '!', 'motherfucking', 'looser']\n"
     ]
    }
   ],
   "source": [
    "#removing the stopwords\n",
    "from nltk.corpus import stopwords\n",
    "paragraph = \"Shubh, you are a shit ass guy !! motherfucking looser\"\n",
    "words = word_tokenize(paragraph)\n",
    "stop = stopwords.words('english')\n",
    "clean_words = [w for w in words if w not in stop]\n",
    "print(clean_words)"
   ]
  },
  {
   "cell_type": "code",
   "execution_count": 11,
   "metadata": {},
   "outputs": [
    {
     "name": "stdout",
     "output_type": "stream",
     "text": [
      "Shubh  :  shubh\n",
      ",  :  ,\n",
      "shit  :  shit\n",
      "ass  :  ass\n",
      "guy  :  guy\n",
      "!  :  !\n",
      "!  :  !\n",
      "motherfucking  :  motherfuck\n",
      "looser  :  looser\n"
     ]
    }
   ],
   "source": [
    "#applying the oprter stemmer technique\n",
    "ps = PorterStemmer()\n",
    "for w in clean_words:\n",
    "    print(w, \" : \", ps.stem(w))"
   ]
  },
  {
   "cell_type": "code",
   "execution_count": 12,
   "metadata": {},
   "outputs": [
    {
     "name": "stdout",
     "output_type": "stream",
     "text": [
      "length of paragraph: 53\n"
     ]
    }
   ],
   "source": [
    "print('length of paragraph:',len(paragraph))"
   ]
  },
  {
   "cell_type": "code",
   "execution_count": 13,
   "metadata": {},
   "outputs": [
    {
     "name": "stdout",
     "output_type": "stream",
     "text": [
      "['shubh', ',', 'you', 'are', 'a', 'shit', 'ass', 'guy', '!', '!', 'motherfuck', 'looser']\n"
     ]
    }
   ],
   "source": [
    "#applying the snowball stemming\n",
    "snow_stemmer = SnowballStemmer(language='english')\n",
    "snow_stem_words = []\n",
    "for w in words:\n",
    "    x = snow_stemmer.stem(w)\n",
    "    snow_stem_words.append(x)\n",
    "\n",
    "print(snow_stem_words)"
   ]
  },
  {
   "cell_type": "code",
   "execution_count": 14,
   "metadata": {},
   "outputs": [
    {
     "name": "stdout",
     "output_type": "stream",
     "text": [
      "Shubh : shubh\n",
      ", : ,\n",
      "you : you\n",
      "are : are\n",
      "a : a\n",
      "shit : shit\n",
      "ass : ass\n",
      "guy : guy\n",
      "! : !\n",
      "! : !\n",
      "motherfucking : motherfuck\n",
      "looser : looser\n"
     ]
    }
   ],
   "source": [
    "for e1,e2 in zip(words,snow_stem_words):\n",
    "    print(e1+' : '+e2)"
   ]
  },
  {
   "cell_type": "code",
   "execution_count": 15,
   "metadata": {},
   "outputs": [
    {
     "name": "stdout",
     "output_type": "stream",
     "text": [
      "Word ---> Porter Stemmer ---> Snowball\n",
      "\n",
      "Shubh ---> shubh  ---> shubh\n",
      ", ---> ,  ---> ,\n",
      "shit ---> shit  ---> shit\n",
      "ass ---> ass  ---> ass\n",
      "guy ---> guy  ---> guy\n",
      "! ---> !  ---> !\n",
      "! ---> !  ---> !\n",
      "motherfucking ---> motherfuck  ---> motherfuck\n",
      "looser ---> looser  ---> looser\n"
     ]
    }
   ],
   "source": [
    "print(\"Word\",\"--->\",\"Porter Stemmer\",\"--->\",\"Snowball\")\n",
    "print(\"\")\n",
    "for word in clean_words:\n",
    "    print(word,\"--->\",ps.stem(word),\" --->\",snow_stemmer.stem(word))"
   ]
  },
  {
   "cell_type": "code",
   "execution_count": 16,
   "metadata": {},
   "outputs": [
    {
     "name": "stdout",
     "output_type": "stream",
     "text": [
      "[]\n"
     ]
    }
   ],
   "source": [
    "#writting your own rule\n",
    "rule_list=[]\n",
    "for word in clean_words:\n",
    "    if(word.endswith('fucker') == True):\n",
    "        word=word.replace(\"ion\",\"e\")\n",
    "        rule_list.append(word)\n",
    "print(rule_list)        "
   ]
  }
 ],
 "metadata": {
  "interpreter": {
   "hash": "c0f70214c0dd213f07f54ee5d6e0ea644bdbba35113c9bfe8aaa0d1db03ad5dd"
  },
  "kernelspec": {
   "display_name": "Python 3.9.7 ('base')",
   "language": "python",
   "name": "python3"
  },
  "language_info": {
   "codemirror_mode": {
    "name": "ipython",
    "version": 3
   },
   "file_extension": ".py",
   "mimetype": "text/x-python",
   "name": "python",
   "nbconvert_exporter": "python",
   "pygments_lexer": "ipython3",
   "version": "3.9.7"
  },
  "orig_nbformat": 4
 },
 "nbformat": 4,
 "nbformat_minor": 2
}
